{
 "cells": [
  {
   "cell_type": "code",
   "execution_count": null,
   "metadata": {},
   "outputs": [],
   "source": [
    "import pandas as pd"
   ]
  },
  {
   "cell_type": "code",
   "execution_count": null,
   "metadata": {},
   "outputs": [],
   "source": [
    "from pathlib import Path\n",
    "model_path = Path(\"/zhouxibin/models\")\n",
    "model_name = \"esm1v_t33_650M_UR90S_1\"\n",
    "esm_path = model_path / \"{}.pt\".format(model_name)\n",
    "data_path = Path(\"data\")\n",
    "dataset_name = \"B3VI55_LIPST_Whitehead2015\""
   ]
  },
  {
   "cell_type": "code",
   "execution_count": null,
   "metadata": {},
   "outputs": [],
   "source": [
    "from Bio import SeqIO\n",
    "def load_wt_and_data(data_path, dataset_name):\n",
    "    \"\"\"load wildtype and data\n",
    "\n",
    "    Args:\n",
    "        data_path (str or pathlib.Path): Data path\n",
    "        dataset_name (str): dataset name\n",
    "\n",
    "    Returns:\n",
    "        fasta (Bio.SeqRecord): sequence\n",
    "        mut_fitness (pd.DataFrame): dataframe\n",
    "    \"\"\"\n",
    "    data_path = Path(data_path)\n",
    "    fasta_dataset_path = data_path / dataset_name / \"{}.fasta\".format(dataset_name)\n",
    "    mut_fitness_dataset_path = data_path / dataset_name / \"{}.csv\".format(dataset_name)\n",
    "    \n",
    "    fasta = SeqIO.read(fasta_dataset_path, \"fasta\")\n",
    "    mut_fitness = pd.read_csv(mut_fitness_dataset_path)\n",
    "    return fasta, mut_fitness\n",
    "wildtype, mut_fitness = load_wt_and_data(data_path, dataset_name)"
   ]
  },
  {
   "cell_type": "code",
   "execution_count": null,
   "metadata": {},
   "outputs": [],
   "source": [
    "import esm\n",
    "model, alphabet = esm.pretrained.load_model_and_alphabet(str(esm_path.absolute()))"
   ]
  },
  {
   "cell_type": "code",
   "execution_count": null,
   "metadata": {},
   "outputs": [],
   "source": [
    "from tqdm import tqdm"
   ]
  },
  {
   "cell_type": "code",
   "execution_count": null,
   "metadata": {},
   "outputs": [],
   "source": [
    "import torch\n",
    "model.eval()\n",
    "if torch.cuda.is_available():\n",
    "    model = model.cuda()\n",
    "    print(\"Transferred model to GPU\")"
   ]
  },
  {
   "cell_type": "code",
   "execution_count": null,
   "metadata": {},
   "outputs": [],
   "source": [
    "scoring_strategy_pool = [\"wt-marginals\", \"masked-marginals\", \"pseudo-ppl\"]\n",
    "scoring_strategy = scoring_strategy_pool[0]"
   ]
  },
  {
   "cell_type": "code",
   "execution_count": null,
   "metadata": {},
   "outputs": [],
   "source": [
    "\n",
    "batch_converter = alphabet.get_batch_converter()\n",
    "\n",
    "data = [\n",
    "    (\"protein1\", str(wildtype.seq)),\n",
    "]\n",
    "batch_labels, batch_strs, batch_tokens = batch_converter(data)\n",
    "print(len(wildtype.seq), batch_tokens.shape, len(batch_strs[0]), batch_labels[0])"
   ]
  },
  {
   "cell_type": "code",
   "execution_count": null,
   "metadata": {},
   "outputs": [],
   "source": [
    "def label_row(row, sequence, token_probs, alphabet, offset_idx):\n",
    "    wt, idx, mt = row[0], int(row[1:-1]) - offset_idx, row[-1]\n",
    "    assert sequence[idx] == wt, \"The listed wildtype does not match the provided sequence\"\n",
    "\n",
    "    wt_encoded, mt_encoded = alphabet.get_idx(wt), alphabet.get_idx(mt)\n",
    "\n",
    "    # add 1 for BOS\n",
    "    score = token_probs[0, 1 + idx, mt_encoded] - token_probs[0, 1 + idx, wt_encoded]\n",
    "    return score.item()"
   ]
  },
  {
   "cell_type": "code",
   "execution_count": null,
   "metadata": {},
   "outputs": [],
   "source": [
    "\n",
    "def compute_pppl(row, sequence, model, alphabet, offset_idx):\n",
    "    wt, idx, mt = row[0], int(row[1:-1]) - offset_idx, row[-1]\n",
    "    assert sequence[idx] == wt, \"The listed wildtype does not match the provided sequence\"\n",
    "\n",
    "    # modify the sequence\n",
    "    sequence = sequence[:idx] + mt + sequence[(idx + 1) :]\n",
    "\n",
    "    # encode the sequence\n",
    "    data = [\n",
    "        (\"protein1\", sequence),\n",
    "    ]\n",
    "\n",
    "    batch_converter = alphabet.get_batch_converter()\n",
    "\n",
    "    batch_labels, batch_strs, batch_tokens = batch_converter(data)\n",
    "\n",
    "    wt_encoded, mt_encoded = alphabet.get_idx(wt), alphabet.get_idx(mt)\n",
    "\n",
    "    # compute probabilities at each position\n",
    "    log_probs = []\n",
    "    for i in range(1, len(sequence) - 1):\n",
    "        batch_tokens_masked = batch_tokens.clone()\n",
    "        batch_tokens_masked[0, i] = alphabet.mask_idx\n",
    "        with torch.no_grad():\n",
    "            token_probs = torch.log_softmax(model(batch_tokens_masked.cuda())[\"logits\"], dim=-1)\n",
    "        log_probs.append(token_probs[0, i, alphabet.get_idx(sequence[i])].item())  # vocab size\n",
    "    return sum(log_probs)"
   ]
  },
  {
   "cell_type": "code",
   "execution_count": null,
   "metadata": {},
   "outputs": [],
   "source": [
    "offset_idx=1 # 生物中都是1开始的索引\n",
    "if scoring_strategy == \"wt-marginals\":\n",
    "    with torch.no_grad():\n",
    "        token_probs = torch.log_softmax(model(batch_tokens.cuda())[\"logits\"], dim=-1)\n",
    "        # print(token_probs.shape)\n",
    "    mut_fitness[model_name] = mut_fitness.apply(\n",
    "        lambda row: label_row(\n",
    "            row[0],\n",
    "            str(wildtype.seq),\n",
    "            token_probs,\n",
    "            alphabet,\n",
    "            offset_idx,\n",
    "        ),\n",
    "        axis=1,\n",
    "    )\n",
    "elif scoring_strategy == \"masked-marginals\":\n",
    "    all_token_probs = []\n",
    "    for i in tqdm(range(batch_tokens.size(1))):\n",
    "        batch_tokens_masked = batch_tokens.clone()\n",
    "        batch_tokens_masked[0, i] = alphabet.mask_idx\n",
    "        with torch.no_grad():\n",
    "            token_probs = torch.log_softmax(\n",
    "                model(batch_tokens_masked.cuda())[\"logits\"], dim=-1\n",
    "            )\n",
    "        all_token_probs.append(token_probs[:, i])  # vocab size\n",
    "    token_probs = torch.cat(all_token_probs, dim=0).unsqueeze(0)\n",
    "    mut_fitness[model_name] = mut_fitness.apply(\n",
    "        lambda row: label_row(\n",
    "            row[0],\n",
    "            str(wildtype.seq),\n",
    "            token_probs,\n",
    "            alphabet,\n",
    "            offset_idx,\n",
    "        ),\n",
    "        axis=1,\n",
    "    )\n",
    "elif scoring_strategy == \"pseudo-ppl\":\n",
    "    tqdm.pandas()\n",
    "    mut_fitness[model_name] = mut_fitness.progress_apply(\n",
    "        lambda row: compute_pppl(\n",
    "            row[0], str(wildtype.seq), model, alphabet, offset_idx\n",
    "        ),\n",
    "        axis=1,\n",
    "    )"
   ]
  },
  {
   "cell_type": "code",
   "execution_count": null,
   "metadata": {},
   "outputs": [],
   "source": [
    "from scipy.stats import spearmanr\n",
    "mut_fitness\n",
    "spearmanr(mut_fitness.iloc[:, 1], mut_fitness.iloc[:, 2])"
   ]
  },
  {
   "cell_type": "code",
   "execution_count": null,
   "metadata": {},
   "outputs": [],
   "source": []
  }
 ],
 "metadata": {
  "kernelspec": {
   "display_name": "Python 3.9.13 ('dms-evaluate': conda)",
   "language": "python",
   "name": "python3"
  },
  "language_info": {
   "codemirror_mode": {
    "name": "ipython",
    "version": 3
   },
   "file_extension": ".py",
   "mimetype": "text/x-python",
   "name": "python",
   "nbconvert_exporter": "python",
   "pygments_lexer": "ipython3",
   "version": "3.9.13"
  },
  "vscode": {
   "interpreter": {
    "hash": "d0765ee94399b90a847b07ed994827faa90e4e22b659722e9114690514c933a5"
   }
  }
 },
 "nbformat": 4,
 "nbformat_minor": 4
}
